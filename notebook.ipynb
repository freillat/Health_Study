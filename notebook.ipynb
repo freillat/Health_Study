{
 "cells": [
  {
   "cell_type": "markdown",
   "metadata": {
    "id": "DrSFLc1zVxfs"
   },
   "source": [
    "Importing the usual library and the data. Please modify file address depending on where you have saved the dataset and how you plan on running it."
   ]
  },
  {
   "cell_type": "code",
   "execution_count": 10,
   "metadata": {
    "colab": {
     "base_uri": "https://localhost:8080/"
    },
    "executionInfo": {
     "elapsed": 3609,
     "status": "ok",
     "timestamp": 1732528971891,
     "user": {
      "displayName": "Nicolas Freillat",
      "userId": "03286038333048446500"
     },
     "user_tz": 0
    },
    "id": "gosfD93aTI5D",
    "outputId": "e5615f5d-45d2-4030-f23d-540a4c7b52e9"
   },
   "outputs": [
    {
     "name": "stdout",
     "output_type": "stream",
     "text": [
      "Drive already mounted at /content/drive; to attempt to forcibly remount, call drive.mount(\"/content/drive\", force_remount=True).\n"
     ]
    }
   ],
   "source": [
    "import pandas as pd\n",
    "import seaborn as sns\n",
    "\n",
    "# this is using google drive / colab - but please edit depending on how you are running the notebook - here the assumption is the diabetes.csv file is in a connected drive under content\n",
    "from google.colab import drive\n",
    "drive.mount('/content/drive')\n",
    "\n",
    "file_address= 'diabetes.csv'\n"
   ]
  },
  {
   "cell_type": "code",
   "execution_count": 3,
   "metadata": {
    "executionInfo": {
     "elapsed": 202,
     "status": "ok",
     "timestamp": 1732528622048,
     "user": {
      "displayName": "Nicolas Freillat",
      "userId": "03286038333048446500"
     },
     "user_tz": 0
    },
    "id": "P5d4S5vUvyNT"
   },
   "outputs": [],
   "source": [
    "df = pd.read_csv(file_address)\n",
    "df.columns = df.columns.str.lower().str.replace(' ', '_')"
   ]
  },
  {
   "cell_type": "markdown",
   "metadata": {
    "id": "Q18dv6urWINx"
   },
   "source": [
    "To start with getting a snapshot of the data and high level stats"
   ]
  },
  {
   "cell_type": "code",
   "execution_count": 8,
   "metadata": {
    "colab": {
     "base_uri": "https://localhost:8080/",
     "height": 206
    },
    "executionInfo": {
     "elapsed": 236,
     "status": "ok",
     "timestamp": 1732528873160,
     "user": {
      "displayName": "Nicolas Freillat",
      "userId": "03286038333048446500"
     },
     "user_tz": 0
    },
    "id": "rDhwU0kAVuG-",
    "outputId": "6a94edb3-653f-4b38-96fb-37e8092e23ba"
   },
   "outputs": [
    {
     "data": {
      "application/vnd.google.colaboratory.intrinsic+json": {
       "summary": "{\n  \"name\": \"df\",\n  \"rows\": 768,\n  \"fields\": [\n    {\n      \"column\": \"pregnancies\",\n      \"properties\": {\n        \"dtype\": \"number\",\n        \"std\": 3,\n        \"min\": 0,\n        \"max\": 17,\n        \"num_unique_values\": 17,\n        \"samples\": [\n          6,\n          1,\n          3\n        ],\n        \"semantic_type\": \"\",\n        \"description\": \"\"\n      }\n    },\n    {\n      \"column\": \"glucose\",\n      \"properties\": {\n        \"dtype\": \"number\",\n        \"std\": 31,\n        \"min\": 0,\n        \"max\": 199,\n        \"num_unique_values\": 136,\n        \"samples\": [\n          151,\n          101,\n          112\n        ],\n        \"semantic_type\": \"\",\n        \"description\": \"\"\n      }\n    },\n    {\n      \"column\": \"bloodpressure\",\n      \"properties\": {\n        \"dtype\": \"number\",\n        \"std\": 19,\n        \"min\": 0,\n        \"max\": 122,\n        \"num_unique_values\": 47,\n        \"samples\": [\n          86,\n          46,\n          85\n        ],\n        \"semantic_type\": \"\",\n        \"description\": \"\"\n      }\n    },\n    {\n      \"column\": \"skinthickness\",\n      \"properties\": {\n        \"dtype\": \"number\",\n        \"std\": 15,\n        \"min\": 0,\n        \"max\": 99,\n        \"num_unique_values\": 51,\n        \"samples\": [\n          7,\n          12,\n          48\n        ],\n        \"semantic_type\": \"\",\n        \"description\": \"\"\n      }\n    },\n    {\n      \"column\": \"insulin\",\n      \"properties\": {\n        \"dtype\": \"number\",\n        \"std\": 115,\n        \"min\": 0,\n        \"max\": 846,\n        \"num_unique_values\": 186,\n        \"samples\": [\n          52,\n          41,\n          183\n        ],\n        \"semantic_type\": \"\",\n        \"description\": \"\"\n      }\n    },\n    {\n      \"column\": \"bmi\",\n      \"properties\": {\n        \"dtype\": \"number\",\n        \"std\": 7.8841603203754405,\n        \"min\": 0.0,\n        \"max\": 67.1,\n        \"num_unique_values\": 248,\n        \"samples\": [\n          19.9,\n          31.0,\n          38.1\n        ],\n        \"semantic_type\": \"\",\n        \"description\": \"\"\n      }\n    },\n    {\n      \"column\": \"diabetespedigreefunction\",\n      \"properties\": {\n        \"dtype\": \"number\",\n        \"std\": 0.33132859501277484,\n        \"min\": 0.078,\n        \"max\": 2.42,\n        \"num_unique_values\": 517,\n        \"samples\": [\n          1.731,\n          0.426,\n          0.138\n        ],\n        \"semantic_type\": \"\",\n        \"description\": \"\"\n      }\n    },\n    {\n      \"column\": \"age\",\n      \"properties\": {\n        \"dtype\": \"number\",\n        \"std\": 11,\n        \"min\": 21,\n        \"max\": 81,\n        \"num_unique_values\": 52,\n        \"samples\": [\n          60,\n          47,\n          72\n        ],\n        \"semantic_type\": \"\",\n        \"description\": \"\"\n      }\n    },\n    {\n      \"column\": \"outcome\",\n      \"properties\": {\n        \"dtype\": \"number\",\n        \"std\": 0,\n        \"min\": 0,\n        \"max\": 1,\n        \"num_unique_values\": 2,\n        \"samples\": [\n          0,\n          1\n        ],\n        \"semantic_type\": \"\",\n        \"description\": \"\"\n      }\n    }\n  ]\n}",
       "type": "dataframe",
       "variable_name": "df"
      },
      "text/html": [
       "\n",
       "  <div id=\"df-ccff2b42-fd54-4a07-8326-0ba6c5d67f8e\" class=\"colab-df-container\">\n",
       "    <div>\n",
       "<style scoped>\n",
       "    .dataframe tbody tr th:only-of-type {\n",
       "        vertical-align: middle;\n",
       "    }\n",
       "\n",
       "    .dataframe tbody tr th {\n",
       "        vertical-align: top;\n",
       "    }\n",
       "\n",
       "    .dataframe thead th {\n",
       "        text-align: right;\n",
       "    }\n",
       "</style>\n",
       "<table border=\"1\" class=\"dataframe\">\n",
       "  <thead>\n",
       "    <tr style=\"text-align: right;\">\n",
       "      <th></th>\n",
       "      <th>pregnancies</th>\n",
       "      <th>glucose</th>\n",
       "      <th>bloodpressure</th>\n",
       "      <th>skinthickness</th>\n",
       "      <th>insulin</th>\n",
       "      <th>bmi</th>\n",
       "      <th>diabetespedigreefunction</th>\n",
       "      <th>age</th>\n",
       "      <th>outcome</th>\n",
       "    </tr>\n",
       "  </thead>\n",
       "  <tbody>\n",
       "    <tr>\n",
       "      <th>0</th>\n",
       "      <td>6</td>\n",
       "      <td>148</td>\n",
       "      <td>72</td>\n",
       "      <td>35</td>\n",
       "      <td>0</td>\n",
       "      <td>33.6</td>\n",
       "      <td>0.627</td>\n",
       "      <td>50</td>\n",
       "      <td>1</td>\n",
       "    </tr>\n",
       "    <tr>\n",
       "      <th>1</th>\n",
       "      <td>1</td>\n",
       "      <td>85</td>\n",
       "      <td>66</td>\n",
       "      <td>29</td>\n",
       "      <td>0</td>\n",
       "      <td>26.6</td>\n",
       "      <td>0.351</td>\n",
       "      <td>31</td>\n",
       "      <td>0</td>\n",
       "    </tr>\n",
       "    <tr>\n",
       "      <th>2</th>\n",
       "      <td>8</td>\n",
       "      <td>183</td>\n",
       "      <td>64</td>\n",
       "      <td>0</td>\n",
       "      <td>0</td>\n",
       "      <td>23.3</td>\n",
       "      <td>0.672</td>\n",
       "      <td>32</td>\n",
       "      <td>1</td>\n",
       "    </tr>\n",
       "    <tr>\n",
       "      <th>3</th>\n",
       "      <td>1</td>\n",
       "      <td>89</td>\n",
       "      <td>66</td>\n",
       "      <td>23</td>\n",
       "      <td>94</td>\n",
       "      <td>28.1</td>\n",
       "      <td>0.167</td>\n",
       "      <td>21</td>\n",
       "      <td>0</td>\n",
       "    </tr>\n",
       "    <tr>\n",
       "      <th>4</th>\n",
       "      <td>0</td>\n",
       "      <td>137</td>\n",
       "      <td>40</td>\n",
       "      <td>35</td>\n",
       "      <td>168</td>\n",
       "      <td>43.1</td>\n",
       "      <td>2.288</td>\n",
       "      <td>33</td>\n",
       "      <td>1</td>\n",
       "    </tr>\n",
       "  </tbody>\n",
       "</table>\n",
       "</div>\n",
       "    <div class=\"colab-df-buttons\">\n",
       "\n",
       "  <div class=\"colab-df-container\">\n",
       "    <button class=\"colab-df-convert\" onclick=\"convertToInteractive('df-ccff2b42-fd54-4a07-8326-0ba6c5d67f8e')\"\n",
       "            title=\"Convert this dataframe to an interactive table.\"\n",
       "            style=\"display:none;\">\n",
       "\n",
       "  <svg xmlns=\"http://www.w3.org/2000/svg\" height=\"24px\" viewBox=\"0 -960 960 960\">\n",
       "    <path d=\"M120-120v-720h720v720H120Zm60-500h600v-160H180v160Zm220 220h160v-160H400v160Zm0 220h160v-160H400v160ZM180-400h160v-160H180v160Zm440 0h160v-160H620v160ZM180-180h160v-160H180v160Zm440 0h160v-160H620v160Z\"/>\n",
       "  </svg>\n",
       "    </button>\n",
       "\n",
       "  <style>\n",
       "    .colab-df-container {\n",
       "      display:flex;\n",
       "      gap: 12px;\n",
       "    }\n",
       "\n",
       "    .colab-df-convert {\n",
       "      background-color: #E8F0FE;\n",
       "      border: none;\n",
       "      border-radius: 50%;\n",
       "      cursor: pointer;\n",
       "      display: none;\n",
       "      fill: #1967D2;\n",
       "      height: 32px;\n",
       "      padding: 0 0 0 0;\n",
       "      width: 32px;\n",
       "    }\n",
       "\n",
       "    .colab-df-convert:hover {\n",
       "      background-color: #E2EBFA;\n",
       "      box-shadow: 0px 1px 2px rgba(60, 64, 67, 0.3), 0px 1px 3px 1px rgba(60, 64, 67, 0.15);\n",
       "      fill: #174EA6;\n",
       "    }\n",
       "\n",
       "    .colab-df-buttons div {\n",
       "      margin-bottom: 4px;\n",
       "    }\n",
       "\n",
       "    [theme=dark] .colab-df-convert {\n",
       "      background-color: #3B4455;\n",
       "      fill: #D2E3FC;\n",
       "    }\n",
       "\n",
       "    [theme=dark] .colab-df-convert:hover {\n",
       "      background-color: #434B5C;\n",
       "      box-shadow: 0px 1px 3px 1px rgba(0, 0, 0, 0.15);\n",
       "      filter: drop-shadow(0px 1px 2px rgba(0, 0, 0, 0.3));\n",
       "      fill: #FFFFFF;\n",
       "    }\n",
       "  </style>\n",
       "\n",
       "    <script>\n",
       "      const buttonEl =\n",
       "        document.querySelector('#df-ccff2b42-fd54-4a07-8326-0ba6c5d67f8e button.colab-df-convert');\n",
       "      buttonEl.style.display =\n",
       "        google.colab.kernel.accessAllowed ? 'block' : 'none';\n",
       "\n",
       "      async function convertToInteractive(key) {\n",
       "        const element = document.querySelector('#df-ccff2b42-fd54-4a07-8326-0ba6c5d67f8e');\n",
       "        const dataTable =\n",
       "          await google.colab.kernel.invokeFunction('convertToInteractive',\n",
       "                                                    [key], {});\n",
       "        if (!dataTable) return;\n",
       "\n",
       "        const docLinkHtml = 'Like what you see? Visit the ' +\n",
       "          '<a target=\"_blank\" href=https://colab.research.google.com/notebooks/data_table.ipynb>data table notebook</a>'\n",
       "          + ' to learn more about interactive tables.';\n",
       "        element.innerHTML = '';\n",
       "        dataTable['output_type'] = 'display_data';\n",
       "        await google.colab.output.renderOutput(dataTable, element);\n",
       "        const docLink = document.createElement('div');\n",
       "        docLink.innerHTML = docLinkHtml;\n",
       "        element.appendChild(docLink);\n",
       "      }\n",
       "    </script>\n",
       "  </div>\n",
       "\n",
       "\n",
       "<div id=\"df-e3cc830c-96c6-4457-b77d-71f9593317b7\">\n",
       "  <button class=\"colab-df-quickchart\" onclick=\"quickchart('df-e3cc830c-96c6-4457-b77d-71f9593317b7')\"\n",
       "            title=\"Suggest charts\"\n",
       "            style=\"display:none;\">\n",
       "\n",
       "<svg xmlns=\"http://www.w3.org/2000/svg\" height=\"24px\"viewBox=\"0 0 24 24\"\n",
       "     width=\"24px\">\n",
       "    <g>\n",
       "        <path d=\"M19 3H5c-1.1 0-2 .9-2 2v14c0 1.1.9 2 2 2h14c1.1 0 2-.9 2-2V5c0-1.1-.9-2-2-2zM9 17H7v-7h2v7zm4 0h-2V7h2v10zm4 0h-2v-4h2v4z\"/>\n",
       "    </g>\n",
       "</svg>\n",
       "  </button>\n",
       "\n",
       "<style>\n",
       "  .colab-df-quickchart {\n",
       "      --bg-color: #E8F0FE;\n",
       "      --fill-color: #1967D2;\n",
       "      --hover-bg-color: #E2EBFA;\n",
       "      --hover-fill-color: #174EA6;\n",
       "      --disabled-fill-color: #AAA;\n",
       "      --disabled-bg-color: #DDD;\n",
       "  }\n",
       "\n",
       "  [theme=dark] .colab-df-quickchart {\n",
       "      --bg-color: #3B4455;\n",
       "      --fill-color: #D2E3FC;\n",
       "      --hover-bg-color: #434B5C;\n",
       "      --hover-fill-color: #FFFFFF;\n",
       "      --disabled-bg-color: #3B4455;\n",
       "      --disabled-fill-color: #666;\n",
       "  }\n",
       "\n",
       "  .colab-df-quickchart {\n",
       "    background-color: var(--bg-color);\n",
       "    border: none;\n",
       "    border-radius: 50%;\n",
       "    cursor: pointer;\n",
       "    display: none;\n",
       "    fill: var(--fill-color);\n",
       "    height: 32px;\n",
       "    padding: 0;\n",
       "    width: 32px;\n",
       "  }\n",
       "\n",
       "  .colab-df-quickchart:hover {\n",
       "    background-color: var(--hover-bg-color);\n",
       "    box-shadow: 0 1px 2px rgba(60, 64, 67, 0.3), 0 1px 3px 1px rgba(60, 64, 67, 0.15);\n",
       "    fill: var(--button-hover-fill-color);\n",
       "  }\n",
       "\n",
       "  .colab-df-quickchart-complete:disabled,\n",
       "  .colab-df-quickchart-complete:disabled:hover {\n",
       "    background-color: var(--disabled-bg-color);\n",
       "    fill: var(--disabled-fill-color);\n",
       "    box-shadow: none;\n",
       "  }\n",
       "\n",
       "  .colab-df-spinner {\n",
       "    border: 2px solid var(--fill-color);\n",
       "    border-color: transparent;\n",
       "    border-bottom-color: var(--fill-color);\n",
       "    animation:\n",
       "      spin 1s steps(1) infinite;\n",
       "  }\n",
       "\n",
       "  @keyframes spin {\n",
       "    0% {\n",
       "      border-color: transparent;\n",
       "      border-bottom-color: var(--fill-color);\n",
       "      border-left-color: var(--fill-color);\n",
       "    }\n",
       "    20% {\n",
       "      border-color: transparent;\n",
       "      border-left-color: var(--fill-color);\n",
       "      border-top-color: var(--fill-color);\n",
       "    }\n",
       "    30% {\n",
       "      border-color: transparent;\n",
       "      border-left-color: var(--fill-color);\n",
       "      border-top-color: var(--fill-color);\n",
       "      border-right-color: var(--fill-color);\n",
       "    }\n",
       "    40% {\n",
       "      border-color: transparent;\n",
       "      border-right-color: var(--fill-color);\n",
       "      border-top-color: var(--fill-color);\n",
       "    }\n",
       "    60% {\n",
       "      border-color: transparent;\n",
       "      border-right-color: var(--fill-color);\n",
       "    }\n",
       "    80% {\n",
       "      border-color: transparent;\n",
       "      border-right-color: var(--fill-color);\n",
       "      border-bottom-color: var(--fill-color);\n",
       "    }\n",
       "    90% {\n",
       "      border-color: transparent;\n",
       "      border-bottom-color: var(--fill-color);\n",
       "    }\n",
       "  }\n",
       "</style>\n",
       "\n",
       "  <script>\n",
       "    async function quickchart(key) {\n",
       "      const quickchartButtonEl =\n",
       "        document.querySelector('#' + key + ' button');\n",
       "      quickchartButtonEl.disabled = true;  // To prevent multiple clicks.\n",
       "      quickchartButtonEl.classList.add('colab-df-spinner');\n",
       "      try {\n",
       "        const charts = await google.colab.kernel.invokeFunction(\n",
       "            'suggestCharts', [key], {});\n",
       "      } catch (error) {\n",
       "        console.error('Error during call to suggestCharts:', error);\n",
       "      }\n",
       "      quickchartButtonEl.classList.remove('colab-df-spinner');\n",
       "      quickchartButtonEl.classList.add('colab-df-quickchart-complete');\n",
       "    }\n",
       "    (() => {\n",
       "      let quickchartButtonEl =\n",
       "        document.querySelector('#df-e3cc830c-96c6-4457-b77d-71f9593317b7 button');\n",
       "      quickchartButtonEl.style.display =\n",
       "        google.colab.kernel.accessAllowed ? 'block' : 'none';\n",
       "    })();\n",
       "  </script>\n",
       "</div>\n",
       "\n",
       "    </div>\n",
       "  </div>\n"
      ],
      "text/plain": [
       "   pregnancies  glucose  bloodpressure  skinthickness  insulin   bmi  \\\n",
       "0            6      148             72             35        0  33.6   \n",
       "1            1       85             66             29        0  26.6   \n",
       "2            8      183             64              0        0  23.3   \n",
       "3            1       89             66             23       94  28.1   \n",
       "4            0      137             40             35      168  43.1   \n",
       "\n",
       "   diabetespedigreefunction  age  outcome  \n",
       "0                     0.627   50        1  \n",
       "1                     0.351   31        0  \n",
       "2                     0.672   32        1  \n",
       "3                     0.167   21        0  \n",
       "4                     2.288   33        1  "
      ]
     },
     "execution_count": 8,
     "metadata": {},
     "output_type": "execute_result"
    }
   ],
   "source": [
    "df.head()"
   ]
  },
  {
   "cell_type": "code",
   "execution_count": 7,
   "metadata": {
    "colab": {
     "base_uri": "https://localhost:8080/"
    },
    "executionInfo": {
     "elapsed": 206,
     "status": "ok",
     "timestamp": 1732528868495,
     "user": {
      "displayName": "Nicolas Freillat",
      "userId": "03286038333048446500"
     },
     "user_tz": 0
    },
    "id": "NwcoWv-OWSUR",
    "outputId": "b2f45ccf-29cc-4a1f-8d8f-cd74612a16c0"
   },
   "outputs": [
    {
     "name": "stdout",
     "output_type": "stream",
     "text": [
      "<class 'pandas.core.frame.DataFrame'>\n",
      "RangeIndex: 768 entries, 0 to 767\n",
      "Data columns (total 9 columns):\n",
      " #   Column                    Non-Null Count  Dtype  \n",
      "---  ------                    --------------  -----  \n",
      " 0   pregnancies               768 non-null    int64  \n",
      " 1   glucose                   768 non-null    int64  \n",
      " 2   bloodpressure             768 non-null    int64  \n",
      " 3   skinthickness             768 non-null    int64  \n",
      " 4   insulin                   768 non-null    int64  \n",
      " 5   bmi                       768 non-null    float64\n",
      " 6   diabetespedigreefunction  768 non-null    float64\n",
      " 7   age                       768 non-null    int64  \n",
      " 8   outcome                   768 non-null    int64  \n",
      "dtypes: float64(2), int64(7)\n",
      "memory usage: 54.1 KB\n"
     ]
    }
   ],
   "source": [
    "df.info()"
   ]
  },
  {
   "cell_type": "code",
   "execution_count": 6,
   "metadata": {
    "colab": {
     "base_uri": "https://localhost:8080/",
     "height": 366
    },
    "executionInfo": {
     "elapsed": 205,
     "status": "ok",
     "timestamp": 1732528748848,
     "user": {
      "displayName": "Nicolas Freillat",
      "userId": "03286038333048446500"
     },
     "user_tz": 0
    },
    "id": "gb7Ucd1MW8wv",
    "outputId": "6ebd9212-798b-4b8c-f6af-615fcaadb0e1"
   },
   "outputs": [
    {
     "data": {
      "text/html": [
       "<div>\n",
       "<style scoped>\n",
       "    .dataframe tbody tr th:only-of-type {\n",
       "        vertical-align: middle;\n",
       "    }\n",
       "\n",
       "    .dataframe tbody tr th {\n",
       "        vertical-align: top;\n",
       "    }\n",
       "\n",
       "    .dataframe thead th {\n",
       "        text-align: right;\n",
       "    }\n",
       "</style>\n",
       "<table border=\"1\" class=\"dataframe\">\n",
       "  <thead>\n",
       "    <tr style=\"text-align: right;\">\n",
       "      <th></th>\n",
       "      <th>0</th>\n",
       "    </tr>\n",
       "  </thead>\n",
       "  <tbody>\n",
       "    <tr>\n",
       "      <th>pregnancies</th>\n",
       "      <td>0</td>\n",
       "    </tr>\n",
       "    <tr>\n",
       "      <th>glucose</th>\n",
       "      <td>0</td>\n",
       "    </tr>\n",
       "    <tr>\n",
       "      <th>bloodpressure</th>\n",
       "      <td>0</td>\n",
       "    </tr>\n",
       "    <tr>\n",
       "      <th>skinthickness</th>\n",
       "      <td>0</td>\n",
       "    </tr>\n",
       "    <tr>\n",
       "      <th>insulin</th>\n",
       "      <td>0</td>\n",
       "    </tr>\n",
       "    <tr>\n",
       "      <th>bmi</th>\n",
       "      <td>0</td>\n",
       "    </tr>\n",
       "    <tr>\n",
       "      <th>diabetespedigreefunction</th>\n",
       "      <td>0</td>\n",
       "    </tr>\n",
       "    <tr>\n",
       "      <th>age</th>\n",
       "      <td>0</td>\n",
       "    </tr>\n",
       "    <tr>\n",
       "      <th>outcome</th>\n",
       "      <td>0</td>\n",
       "    </tr>\n",
       "  </tbody>\n",
       "</table>\n",
       "</div><br><label><b>dtype:</b> int64</label>"
      ],
      "text/plain": [
       "pregnancies                 0\n",
       "glucose                     0\n",
       "bloodpressure               0\n",
       "skinthickness               0\n",
       "insulin                     0\n",
       "bmi                         0\n",
       "diabetespedigreefunction    0\n",
       "age                         0\n",
       "outcome                     0\n",
       "dtype: int64"
      ]
     },
     "execution_count": 6,
     "metadata": {},
     "output_type": "execute_result"
    }
   ],
   "source": [
    "df.isna().sum()"
   ]
  },
  {
   "cell_type": "markdown",
   "metadata": {
    "id": "BfUHE9OYsVwS"
   },
   "source": [
    "There are no null entries so the dataset looks fairly clean at a high level.\n",
    "Let's have a look at some basic statistics and also correlation."
   ]
  },
  {
   "cell_type": "code",
   "execution_count": null,
   "metadata": {
    "colab": {
     "base_uri": "https://localhost:8080/",
     "height": 300
    },
    "executionInfo": {
     "elapsed": 11,
     "status": "ok",
     "timestamp": 1731957693864,
     "user": {
      "displayName": "Nicolas Freillat",
      "userId": "03286038333048446500"
     },
     "user_tz": 0
    },
    "id": "XAjSQ7O-sYr0",
    "outputId": "54dcfdb1-82f7-4986-a9bb-c1b4adb199b5"
   },
   "outputs": [
    {
     "data": {
      "application/vnd.google.colaboratory.intrinsic+json": {
       "summary": "{\n  \"name\": \"df\",\n  \"rows\": 8,\n  \"fields\": [\n    {\n      \"column\": \"age\",\n      \"properties\": {\n        \"dtype\": \"number\",\n        \"std\": 1721.8069937061023,\n        \"min\": 0.08,\n        \"max\": 4909.0,\n        \"num_unique_values\": 8,\n        \"samples\": [\n          42.865373803218574,\n          44.0,\n          4909.0\n        ],\n        \"semantic_type\": \"\",\n        \"description\": \"\"\n      }\n    },\n    {\n      \"column\": \"hypertension\",\n      \"properties\": {\n        \"dtype\": \"number\",\n        \"std\": 1735.5238899085766,\n        \"min\": 0.0,\n        \"max\": 4909.0,\n        \"num_unique_values\": 5,\n        \"samples\": [\n          0.09187207170503157,\n          1.0,\n          0.28887470164062573\n        ],\n        \"semantic_type\": \"\",\n        \"description\": \"\"\n      }\n    },\n    {\n      \"column\": \"heart_disease\",\n      \"properties\": {\n        \"dtype\": \"number\",\n        \"std\": 1735.5296635871634,\n        \"min\": 0.0,\n        \"max\": 4909.0,\n        \"num_unique_values\": 5,\n        \"samples\": [\n          0.04950091668364229,\n          1.0,\n          0.21693354382859176\n        ],\n        \"semantic_type\": \"\",\n        \"description\": \"\"\n      }\n    },\n    {\n      \"column\": \"avg_glucose_level\",\n      \"properties\": {\n        \"dtype\": \"number\",\n        \"std\": 1698.7313729411187,\n        \"min\": 44.42434066091554,\n        \"max\": 4909.0,\n        \"num_unique_values\": 8,\n        \"samples\": [\n          105.3051497249949,\n          91.68,\n          4909.0\n        ],\n        \"semantic_type\": \"\",\n        \"description\": \"\"\n      }\n    },\n    {\n      \"column\": \"bmi\",\n      \"properties\": {\n        \"dtype\": \"number\",\n        \"std\": 1724.2356567020179,\n        \"min\": 7.854066729680158,\n        \"max\": 4909.0,\n        \"num_unique_values\": 8,\n        \"samples\": [\n          28.893236911794663,\n          28.1,\n          4909.0\n        ],\n        \"semantic_type\": \"\",\n        \"description\": \"\"\n      }\n    },\n    {\n      \"column\": \"stroke\",\n      \"properties\": {\n        \"dtype\": \"number\",\n        \"std\": 1735.530771885284,\n        \"min\": 0.0,\n        \"max\": 4909.0,\n        \"num_unique_values\": 5,\n        \"samples\": [\n          0.04257486249745366,\n          1.0,\n          0.20191718313801338\n        ],\n        \"semantic_type\": \"\",\n        \"description\": \"\"\n      }\n    }\n  ]\n}",
       "type": "dataframe"
      },
      "text/html": [
       "\n",
       "  <div id=\"df-87a9ed64-fc4a-492a-943a-156f81c9bc1d\" class=\"colab-df-container\">\n",
       "    <div>\n",
       "<style scoped>\n",
       "    .dataframe tbody tr th:only-of-type {\n",
       "        vertical-align: middle;\n",
       "    }\n",
       "\n",
       "    .dataframe tbody tr th {\n",
       "        vertical-align: top;\n",
       "    }\n",
       "\n",
       "    .dataframe thead th {\n",
       "        text-align: right;\n",
       "    }\n",
       "</style>\n",
       "<table border=\"1\" class=\"dataframe\">\n",
       "  <thead>\n",
       "    <tr style=\"text-align: right;\">\n",
       "      <th></th>\n",
       "      <th>age</th>\n",
       "      <th>hypertension</th>\n",
       "      <th>heart_disease</th>\n",
       "      <th>avg_glucose_level</th>\n",
       "      <th>bmi</th>\n",
       "      <th>stroke</th>\n",
       "    </tr>\n",
       "  </thead>\n",
       "  <tbody>\n",
       "    <tr>\n",
       "      <th>count</th>\n",
       "      <td>4909.000000</td>\n",
       "      <td>4909.000000</td>\n",
       "      <td>4909.000000</td>\n",
       "      <td>4909.000000</td>\n",
       "      <td>4909.000000</td>\n",
       "      <td>4909.000000</td>\n",
       "    </tr>\n",
       "    <tr>\n",
       "      <th>mean</th>\n",
       "      <td>42.865374</td>\n",
       "      <td>0.091872</td>\n",
       "      <td>0.049501</td>\n",
       "      <td>105.305150</td>\n",
       "      <td>28.893237</td>\n",
       "      <td>0.042575</td>\n",
       "    </tr>\n",
       "    <tr>\n",
       "      <th>std</th>\n",
       "      <td>22.555115</td>\n",
       "      <td>0.288875</td>\n",
       "      <td>0.216934</td>\n",
       "      <td>44.424341</td>\n",
       "      <td>7.854067</td>\n",
       "      <td>0.201917</td>\n",
       "    </tr>\n",
       "    <tr>\n",
       "      <th>min</th>\n",
       "      <td>0.080000</td>\n",
       "      <td>0.000000</td>\n",
       "      <td>0.000000</td>\n",
       "      <td>55.120000</td>\n",
       "      <td>10.300000</td>\n",
       "      <td>0.000000</td>\n",
       "    </tr>\n",
       "    <tr>\n",
       "      <th>25%</th>\n",
       "      <td>25.000000</td>\n",
       "      <td>0.000000</td>\n",
       "      <td>0.000000</td>\n",
       "      <td>77.070000</td>\n",
       "      <td>23.500000</td>\n",
       "      <td>0.000000</td>\n",
       "    </tr>\n",
       "    <tr>\n",
       "      <th>50%</th>\n",
       "      <td>44.000000</td>\n",
       "      <td>0.000000</td>\n",
       "      <td>0.000000</td>\n",
       "      <td>91.680000</td>\n",
       "      <td>28.100000</td>\n",
       "      <td>0.000000</td>\n",
       "    </tr>\n",
       "    <tr>\n",
       "      <th>75%</th>\n",
       "      <td>60.000000</td>\n",
       "      <td>0.000000</td>\n",
       "      <td>0.000000</td>\n",
       "      <td>113.570000</td>\n",
       "      <td>33.100000</td>\n",
       "      <td>0.000000</td>\n",
       "    </tr>\n",
       "    <tr>\n",
       "      <th>max</th>\n",
       "      <td>82.000000</td>\n",
       "      <td>1.000000</td>\n",
       "      <td>1.000000</td>\n",
       "      <td>271.740000</td>\n",
       "      <td>97.600000</td>\n",
       "      <td>1.000000</td>\n",
       "    </tr>\n",
       "  </tbody>\n",
       "</table>\n",
       "</div>\n",
       "    <div class=\"colab-df-buttons\">\n",
       "\n",
       "  <div class=\"colab-df-container\">\n",
       "    <button class=\"colab-df-convert\" onclick=\"convertToInteractive('df-87a9ed64-fc4a-492a-943a-156f81c9bc1d')\"\n",
       "            title=\"Convert this dataframe to an interactive table.\"\n",
       "            style=\"display:none;\">\n",
       "\n",
       "  <svg xmlns=\"http://www.w3.org/2000/svg\" height=\"24px\" viewBox=\"0 -960 960 960\">\n",
       "    <path d=\"M120-120v-720h720v720H120Zm60-500h600v-160H180v160Zm220 220h160v-160H400v160Zm0 220h160v-160H400v160ZM180-400h160v-160H180v160Zm440 0h160v-160H620v160ZM180-180h160v-160H180v160Zm440 0h160v-160H620v160Z\"/>\n",
       "  </svg>\n",
       "    </button>\n",
       "\n",
       "  <style>\n",
       "    .colab-df-container {\n",
       "      display:flex;\n",
       "      gap: 12px;\n",
       "    }\n",
       "\n",
       "    .colab-df-convert {\n",
       "      background-color: #E8F0FE;\n",
       "      border: none;\n",
       "      border-radius: 50%;\n",
       "      cursor: pointer;\n",
       "      display: none;\n",
       "      fill: #1967D2;\n",
       "      height: 32px;\n",
       "      padding: 0 0 0 0;\n",
       "      width: 32px;\n",
       "    }\n",
       "\n",
       "    .colab-df-convert:hover {\n",
       "      background-color: #E2EBFA;\n",
       "      box-shadow: 0px 1px 2px rgba(60, 64, 67, 0.3), 0px 1px 3px 1px rgba(60, 64, 67, 0.15);\n",
       "      fill: #174EA6;\n",
       "    }\n",
       "\n",
       "    .colab-df-buttons div {\n",
       "      margin-bottom: 4px;\n",
       "    }\n",
       "\n",
       "    [theme=dark] .colab-df-convert {\n",
       "      background-color: #3B4455;\n",
       "      fill: #D2E3FC;\n",
       "    }\n",
       "\n",
       "    [theme=dark] .colab-df-convert:hover {\n",
       "      background-color: #434B5C;\n",
       "      box-shadow: 0px 1px 3px 1px rgba(0, 0, 0, 0.15);\n",
       "      filter: drop-shadow(0px 1px 2px rgba(0, 0, 0, 0.3));\n",
       "      fill: #FFFFFF;\n",
       "    }\n",
       "  </style>\n",
       "\n",
       "    <script>\n",
       "      const buttonEl =\n",
       "        document.querySelector('#df-87a9ed64-fc4a-492a-943a-156f81c9bc1d button.colab-df-convert');\n",
       "      buttonEl.style.display =\n",
       "        google.colab.kernel.accessAllowed ? 'block' : 'none';\n",
       "\n",
       "      async function convertToInteractive(key) {\n",
       "        const element = document.querySelector('#df-87a9ed64-fc4a-492a-943a-156f81c9bc1d');\n",
       "        const dataTable =\n",
       "          await google.colab.kernel.invokeFunction('convertToInteractive',\n",
       "                                                    [key], {});\n",
       "        if (!dataTable) return;\n",
       "\n",
       "        const docLinkHtml = 'Like what you see? Visit the ' +\n",
       "          '<a target=\"_blank\" href=https://colab.research.google.com/notebooks/data_table.ipynb>data table notebook</a>'\n",
       "          + ' to learn more about interactive tables.';\n",
       "        element.innerHTML = '';\n",
       "        dataTable['output_type'] = 'display_data';\n",
       "        await google.colab.output.renderOutput(dataTable, element);\n",
       "        const docLink = document.createElement('div');\n",
       "        docLink.innerHTML = docLinkHtml;\n",
       "        element.appendChild(docLink);\n",
       "      }\n",
       "    </script>\n",
       "  </div>\n",
       "\n",
       "\n",
       "<div id=\"df-b79c188a-6c7f-407a-bd22-9c8bf0e30a2f\">\n",
       "  <button class=\"colab-df-quickchart\" onclick=\"quickchart('df-b79c188a-6c7f-407a-bd22-9c8bf0e30a2f')\"\n",
       "            title=\"Suggest charts\"\n",
       "            style=\"display:none;\">\n",
       "\n",
       "<svg xmlns=\"http://www.w3.org/2000/svg\" height=\"24px\"viewBox=\"0 0 24 24\"\n",
       "     width=\"24px\">\n",
       "    <g>\n",
       "        <path d=\"M19 3H5c-1.1 0-2 .9-2 2v14c0 1.1.9 2 2 2h14c1.1 0 2-.9 2-2V5c0-1.1-.9-2-2-2zM9 17H7v-7h2v7zm4 0h-2V7h2v10zm4 0h-2v-4h2v4z\"/>\n",
       "    </g>\n",
       "</svg>\n",
       "  </button>\n",
       "\n",
       "<style>\n",
       "  .colab-df-quickchart {\n",
       "      --bg-color: #E8F0FE;\n",
       "      --fill-color: #1967D2;\n",
       "      --hover-bg-color: #E2EBFA;\n",
       "      --hover-fill-color: #174EA6;\n",
       "      --disabled-fill-color: #AAA;\n",
       "      --disabled-bg-color: #DDD;\n",
       "  }\n",
       "\n",
       "  [theme=dark] .colab-df-quickchart {\n",
       "      --bg-color: #3B4455;\n",
       "      --fill-color: #D2E3FC;\n",
       "      --hover-bg-color: #434B5C;\n",
       "      --hover-fill-color: #FFFFFF;\n",
       "      --disabled-bg-color: #3B4455;\n",
       "      --disabled-fill-color: #666;\n",
       "  }\n",
       "\n",
       "  .colab-df-quickchart {\n",
       "    background-color: var(--bg-color);\n",
       "    border: none;\n",
       "    border-radius: 50%;\n",
       "    cursor: pointer;\n",
       "    display: none;\n",
       "    fill: var(--fill-color);\n",
       "    height: 32px;\n",
       "    padding: 0;\n",
       "    width: 32px;\n",
       "  }\n",
       "\n",
       "  .colab-df-quickchart:hover {\n",
       "    background-color: var(--hover-bg-color);\n",
       "    box-shadow: 0 1px 2px rgba(60, 64, 67, 0.3), 0 1px 3px 1px rgba(60, 64, 67, 0.15);\n",
       "    fill: var(--button-hover-fill-color);\n",
       "  }\n",
       "\n",
       "  .colab-df-quickchart-complete:disabled,\n",
       "  .colab-df-quickchart-complete:disabled:hover {\n",
       "    background-color: var(--disabled-bg-color);\n",
       "    fill: var(--disabled-fill-color);\n",
       "    box-shadow: none;\n",
       "  }\n",
       "\n",
       "  .colab-df-spinner {\n",
       "    border: 2px solid var(--fill-color);\n",
       "    border-color: transparent;\n",
       "    border-bottom-color: var(--fill-color);\n",
       "    animation:\n",
       "      spin 1s steps(1) infinite;\n",
       "  }\n",
       "\n",
       "  @keyframes spin {\n",
       "    0% {\n",
       "      border-color: transparent;\n",
       "      border-bottom-color: var(--fill-color);\n",
       "      border-left-color: var(--fill-color);\n",
       "    }\n",
       "    20% {\n",
       "      border-color: transparent;\n",
       "      border-left-color: var(--fill-color);\n",
       "      border-top-color: var(--fill-color);\n",
       "    }\n",
       "    30% {\n",
       "      border-color: transparent;\n",
       "      border-left-color: var(--fill-color);\n",
       "      border-top-color: var(--fill-color);\n",
       "      border-right-color: var(--fill-color);\n",
       "    }\n",
       "    40% {\n",
       "      border-color: transparent;\n",
       "      border-right-color: var(--fill-color);\n",
       "      border-top-color: var(--fill-color);\n",
       "    }\n",
       "    60% {\n",
       "      border-color: transparent;\n",
       "      border-right-color: var(--fill-color);\n",
       "    }\n",
       "    80% {\n",
       "      border-color: transparent;\n",
       "      border-right-color: var(--fill-color);\n",
       "      border-bottom-color: var(--fill-color);\n",
       "    }\n",
       "    90% {\n",
       "      border-color: transparent;\n",
       "      border-bottom-color: var(--fill-color);\n",
       "    }\n",
       "  }\n",
       "</style>\n",
       "\n",
       "  <script>\n",
       "    async function quickchart(key) {\n",
       "      const quickchartButtonEl =\n",
       "        document.querySelector('#' + key + ' button');\n",
       "      quickchartButtonEl.disabled = true;  // To prevent multiple clicks.\n",
       "      quickchartButtonEl.classList.add('colab-df-spinner');\n",
       "      try {\n",
       "        const charts = await google.colab.kernel.invokeFunction(\n",
       "            'suggestCharts', [key], {});\n",
       "      } catch (error) {\n",
       "        console.error('Error during call to suggestCharts:', error);\n",
       "      }\n",
       "      quickchartButtonEl.classList.remove('colab-df-spinner');\n",
       "      quickchartButtonEl.classList.add('colab-df-quickchart-complete');\n",
       "    }\n",
       "    (() => {\n",
       "      let quickchartButtonEl =\n",
       "        document.querySelector('#df-b79c188a-6c7f-407a-bd22-9c8bf0e30a2f button');\n",
       "      quickchartButtonEl.style.display =\n",
       "        google.colab.kernel.accessAllowed ? 'block' : 'none';\n",
       "    })();\n",
       "  </script>\n",
       "</div>\n",
       "\n",
       "    </div>\n",
       "  </div>\n"
      ],
      "text/plain": [
       "               age  hypertension  heart_disease  avg_glucose_level  \\\n",
       "count  4909.000000   4909.000000    4909.000000        4909.000000   \n",
       "mean     42.865374      0.091872       0.049501         105.305150   \n",
       "std      22.555115      0.288875       0.216934          44.424341   \n",
       "min       0.080000      0.000000       0.000000          55.120000   \n",
       "25%      25.000000      0.000000       0.000000          77.070000   \n",
       "50%      44.000000      0.000000       0.000000          91.680000   \n",
       "75%      60.000000      0.000000       0.000000         113.570000   \n",
       "max      82.000000      1.000000       1.000000         271.740000   \n",
       "\n",
       "               bmi       stroke  \n",
       "count  4909.000000  4909.000000  \n",
       "mean     28.893237     0.042575  \n",
       "std       7.854067     0.201917  \n",
       "min      10.300000     0.000000  \n",
       "25%      23.500000     0.000000  \n",
       "50%      28.100000     0.000000  \n",
       "75%      33.100000     0.000000  \n",
       "max      97.600000     1.000000  "
      ]
     },
     "execution_count": 49,
     "metadata": {},
     "output_type": "execute_result"
    }
   ],
   "source": [
    "df.describe()"
   ]
  },
  {
   "cell_type": "code",
   "execution_count": 12,
   "metadata": {
    "colab": {
     "base_uri": "https://localhost:8080/",
     "height": 332
    },
    "executionInfo": {
     "elapsed": 239,
     "status": "ok",
     "timestamp": 1732529016624,
     "user": {
      "displayName": "Nicolas Freillat",
      "userId": "03286038333048446500"
     },
     "user_tz": 0
    },
    "id": "KmvUW1VstlTQ",
    "outputId": "671b9a78-52a0-4b7b-a16b-bf390208b392"
   },
   "outputs": [
    {
     "data": {
      "application/vnd.google.colaboratory.intrinsic+json": {
       "summary": "{\n  \"name\": \"df\",\n  \"rows\": 9,\n  \"fields\": [\n    {\n      \"column\": \"pregnancies\",\n      \"properties\": {\n        \"dtype\": \"number\",\n        \"std\": 0.3551273944830802,\n        \"min\": -0.08167177444900726,\n        \"max\": 1.0,\n        \"num_unique_values\": 9,\n        \"samples\": [\n          0.5443412284023392,\n          0.12945867149927248,\n          0.017683090727830565\n        ],\n        \"semantic_type\": \"\",\n        \"description\": \"\"\n      }\n    },\n    {\n      \"column\": \"glucose\",\n      \"properties\": {\n        \"dtype\": \"number\",\n        \"std\": 0.28767750976254863,\n        \"min\": 0.05732789073817692,\n        \"max\": 1.0,\n        \"num_unique_values\": 9,\n        \"samples\": [\n          0.26351431982433343,\n          1.0,\n          0.2210710694589828\n        ],\n        \"semantic_type\": \"\",\n        \"description\": \"\"\n      }\n    },\n    {\n      \"column\": \"bloodpressure\",\n      \"properties\": {\n        \"dtype\": \"number\",\n        \"std\": 0.2937568072929426,\n        \"min\": 0.04126494793009856,\n        \"max\": 1.0,\n        \"num_unique_values\": 9,\n        \"samples\": [\n          0.23952794642136344,\n          0.1525895865686646,\n          0.2818052888499109\n        ],\n        \"semantic_type\": \"\",\n        \"description\": \"\"\n      }\n    },\n    {\n      \"column\": \"skinthickness\",\n      \"properties\": {\n        \"dtype\": \"number\",\n        \"std\": 0.34155040316543445,\n        \"min\": -0.11397026236774152,\n        \"max\": 1.0,\n        \"num_unique_values\": 9,\n        \"samples\": [\n          -0.11397026236774152,\n          0.05732789073817692,\n          0.39257320415903835\n        ],\n        \"semantic_type\": \"\",\n        \"description\": \"\"\n      }\n    },\n    {\n      \"column\": \"insulin\",\n      \"properties\": {\n        \"dtype\": \"number\",\n        \"std\": 0.3242652539286031,\n        \"min\": -0.07353461435162822,\n        \"max\": 1.0,\n        \"num_unique_values\": 9,\n        \"samples\": [\n          -0.04216295473537695,\n          0.3313571099202092,\n          0.19785905649310145\n        ],\n        \"semantic_type\": \"\",\n        \"description\": \"\"\n      }\n    },\n    {\n      \"column\": \"bmi\",\n      \"properties\": {\n        \"dtype\": \"number\",\n        \"std\": 0.29340599982594495,\n        \"min\": 0.017683090727830565,\n        \"max\": 1.0,\n        \"num_unique_values\": 9,\n        \"samples\": [\n          0.03624187009229395,\n          0.2210710694589828,\n          1.0\n        ],\n        \"semantic_type\": \"\",\n        \"description\": \"\"\n      }\n    },\n    {\n      \"column\": \"diabetespedigreefunction\",\n      \"properties\": {\n        \"dtype\": \"number\",\n        \"std\": 0.30733070822371455,\n        \"min\": -0.03352267296261304,\n        \"max\": 1.0,\n        \"num_unique_values\": 9,\n        \"samples\": [\n          0.03356131243480539,\n          0.13733729982837092,\n          0.14064695254510523\n        ],\n        \"semantic_type\": \"\",\n        \"description\": \"\"\n      }\n    },\n    {\n      \"column\": \"age\",\n      \"properties\": {\n        \"dtype\": \"number\",\n        \"std\": 0.34634737835147417,\n        \"min\": -0.11397026236774152,\n        \"max\": 1.0,\n        \"num_unique_values\": 9,\n        \"samples\": [\n          1.0,\n          0.26351431982433343,\n          0.03624187009229395\n        ],\n        \"semantic_type\": \"\",\n        \"description\": \"\"\n      }\n    },\n    {\n      \"column\": \"outcome\",\n      \"properties\": {\n        \"dtype\": \"number\",\n        \"std\": 0.2911432844711856,\n        \"min\": 0.06506835955033277,\n        \"max\": 1.0,\n        \"num_unique_values\": 9,\n        \"samples\": [\n          0.23835598302719757,\n          0.46658139830687373,\n          0.2926946626444454\n        ],\n        \"semantic_type\": \"\",\n        \"description\": \"\"\n      }\n    }\n  ]\n}",
       "type": "dataframe"
      },
      "text/html": [
       "\n",
       "  <div id=\"df-ecb8a81b-e6d7-4ec9-b7da-30b84abb20c9\" class=\"colab-df-container\">\n",
       "    <div>\n",
       "<style scoped>\n",
       "    .dataframe tbody tr th:only-of-type {\n",
       "        vertical-align: middle;\n",
       "    }\n",
       "\n",
       "    .dataframe tbody tr th {\n",
       "        vertical-align: top;\n",
       "    }\n",
       "\n",
       "    .dataframe thead th {\n",
       "        text-align: right;\n",
       "    }\n",
       "</style>\n",
       "<table border=\"1\" class=\"dataframe\">\n",
       "  <thead>\n",
       "    <tr style=\"text-align: right;\">\n",
       "      <th></th>\n",
       "      <th>pregnancies</th>\n",
       "      <th>glucose</th>\n",
       "      <th>bloodpressure</th>\n",
       "      <th>skinthickness</th>\n",
       "      <th>insulin</th>\n",
       "      <th>bmi</th>\n",
       "      <th>diabetespedigreefunction</th>\n",
       "      <th>age</th>\n",
       "      <th>outcome</th>\n",
       "    </tr>\n",
       "  </thead>\n",
       "  <tbody>\n",
       "    <tr>\n",
       "      <th>pregnancies</th>\n",
       "      <td>1.000000</td>\n",
       "      <td>0.129459</td>\n",
       "      <td>0.141282</td>\n",
       "      <td>-0.081672</td>\n",
       "      <td>-0.073535</td>\n",
       "      <td>0.017683</td>\n",
       "      <td>-0.033523</td>\n",
       "      <td>0.544341</td>\n",
       "      <td>0.221898</td>\n",
       "    </tr>\n",
       "    <tr>\n",
       "      <th>glucose</th>\n",
       "      <td>0.129459</td>\n",
       "      <td>1.000000</td>\n",
       "      <td>0.152590</td>\n",
       "      <td>0.057328</td>\n",
       "      <td>0.331357</td>\n",
       "      <td>0.221071</td>\n",
       "      <td>0.137337</td>\n",
       "      <td>0.263514</td>\n",
       "      <td>0.466581</td>\n",
       "    </tr>\n",
       "    <tr>\n",
       "      <th>bloodpressure</th>\n",
       "      <td>0.141282</td>\n",
       "      <td>0.152590</td>\n",
       "      <td>1.000000</td>\n",
       "      <td>0.207371</td>\n",
       "      <td>0.088933</td>\n",
       "      <td>0.281805</td>\n",
       "      <td>0.041265</td>\n",
       "      <td>0.239528</td>\n",
       "      <td>0.065068</td>\n",
       "    </tr>\n",
       "    <tr>\n",
       "      <th>skinthickness</th>\n",
       "      <td>-0.081672</td>\n",
       "      <td>0.057328</td>\n",
       "      <td>0.207371</td>\n",
       "      <td>1.000000</td>\n",
       "      <td>0.436783</td>\n",
       "      <td>0.392573</td>\n",
       "      <td>0.183928</td>\n",
       "      <td>-0.113970</td>\n",
       "      <td>0.074752</td>\n",
       "    </tr>\n",
       "    <tr>\n",
       "      <th>insulin</th>\n",
       "      <td>-0.073535</td>\n",
       "      <td>0.331357</td>\n",
       "      <td>0.088933</td>\n",
       "      <td>0.436783</td>\n",
       "      <td>1.000000</td>\n",
       "      <td>0.197859</td>\n",
       "      <td>0.185071</td>\n",
       "      <td>-0.042163</td>\n",
       "      <td>0.130548</td>\n",
       "    </tr>\n",
       "    <tr>\n",
       "      <th>bmi</th>\n",
       "      <td>0.017683</td>\n",
       "      <td>0.221071</td>\n",
       "      <td>0.281805</td>\n",
       "      <td>0.392573</td>\n",
       "      <td>0.197859</td>\n",
       "      <td>1.000000</td>\n",
       "      <td>0.140647</td>\n",
       "      <td>0.036242</td>\n",
       "      <td>0.292695</td>\n",
       "    </tr>\n",
       "    <tr>\n",
       "      <th>diabetespedigreefunction</th>\n",
       "      <td>-0.033523</td>\n",
       "      <td>0.137337</td>\n",
       "      <td>0.041265</td>\n",
       "      <td>0.183928</td>\n",
       "      <td>0.185071</td>\n",
       "      <td>0.140647</td>\n",
       "      <td>1.000000</td>\n",
       "      <td>0.033561</td>\n",
       "      <td>0.173844</td>\n",
       "    </tr>\n",
       "    <tr>\n",
       "      <th>age</th>\n",
       "      <td>0.544341</td>\n",
       "      <td>0.263514</td>\n",
       "      <td>0.239528</td>\n",
       "      <td>-0.113970</td>\n",
       "      <td>-0.042163</td>\n",
       "      <td>0.036242</td>\n",
       "      <td>0.033561</td>\n",
       "      <td>1.000000</td>\n",
       "      <td>0.238356</td>\n",
       "    </tr>\n",
       "    <tr>\n",
       "      <th>outcome</th>\n",
       "      <td>0.221898</td>\n",
       "      <td>0.466581</td>\n",
       "      <td>0.065068</td>\n",
       "      <td>0.074752</td>\n",
       "      <td>0.130548</td>\n",
       "      <td>0.292695</td>\n",
       "      <td>0.173844</td>\n",
       "      <td>0.238356</td>\n",
       "      <td>1.000000</td>\n",
       "    </tr>\n",
       "  </tbody>\n",
       "</table>\n",
       "</div>\n",
       "    <div class=\"colab-df-buttons\">\n",
       "\n",
       "  <div class=\"colab-df-container\">\n",
       "    <button class=\"colab-df-convert\" onclick=\"convertToInteractive('df-ecb8a81b-e6d7-4ec9-b7da-30b84abb20c9')\"\n",
       "            title=\"Convert this dataframe to an interactive table.\"\n",
       "            style=\"display:none;\">\n",
       "\n",
       "  <svg xmlns=\"http://www.w3.org/2000/svg\" height=\"24px\" viewBox=\"0 -960 960 960\">\n",
       "    <path d=\"M120-120v-720h720v720H120Zm60-500h600v-160H180v160Zm220 220h160v-160H400v160Zm0 220h160v-160H400v160ZM180-400h160v-160H180v160Zm440 0h160v-160H620v160ZM180-180h160v-160H180v160Zm440 0h160v-160H620v160Z\"/>\n",
       "  </svg>\n",
       "    </button>\n",
       "\n",
       "  <style>\n",
       "    .colab-df-container {\n",
       "      display:flex;\n",
       "      gap: 12px;\n",
       "    }\n",
       "\n",
       "    .colab-df-convert {\n",
       "      background-color: #E8F0FE;\n",
       "      border: none;\n",
       "      border-radius: 50%;\n",
       "      cursor: pointer;\n",
       "      display: none;\n",
       "      fill: #1967D2;\n",
       "      height: 32px;\n",
       "      padding: 0 0 0 0;\n",
       "      width: 32px;\n",
       "    }\n",
       "\n",
       "    .colab-df-convert:hover {\n",
       "      background-color: #E2EBFA;\n",
       "      box-shadow: 0px 1px 2px rgba(60, 64, 67, 0.3), 0px 1px 3px 1px rgba(60, 64, 67, 0.15);\n",
       "      fill: #174EA6;\n",
       "    }\n",
       "\n",
       "    .colab-df-buttons div {\n",
       "      margin-bottom: 4px;\n",
       "    }\n",
       "\n",
       "    [theme=dark] .colab-df-convert {\n",
       "      background-color: #3B4455;\n",
       "      fill: #D2E3FC;\n",
       "    }\n",
       "\n",
       "    [theme=dark] .colab-df-convert:hover {\n",
       "      background-color: #434B5C;\n",
       "      box-shadow: 0px 1px 3px 1px rgba(0, 0, 0, 0.15);\n",
       "      filter: drop-shadow(0px 1px 2px rgba(0, 0, 0, 0.3));\n",
       "      fill: #FFFFFF;\n",
       "    }\n",
       "  </style>\n",
       "\n",
       "    <script>\n",
       "      const buttonEl =\n",
       "        document.querySelector('#df-ecb8a81b-e6d7-4ec9-b7da-30b84abb20c9 button.colab-df-convert');\n",
       "      buttonEl.style.display =\n",
       "        google.colab.kernel.accessAllowed ? 'block' : 'none';\n",
       "\n",
       "      async function convertToInteractive(key) {\n",
       "        const element = document.querySelector('#df-ecb8a81b-e6d7-4ec9-b7da-30b84abb20c9');\n",
       "        const dataTable =\n",
       "          await google.colab.kernel.invokeFunction('convertToInteractive',\n",
       "                                                    [key], {});\n",
       "        if (!dataTable) return;\n",
       "\n",
       "        const docLinkHtml = 'Like what you see? Visit the ' +\n",
       "          '<a target=\"_blank\" href=https://colab.research.google.com/notebooks/data_table.ipynb>data table notebook</a>'\n",
       "          + ' to learn more about interactive tables.';\n",
       "        element.innerHTML = '';\n",
       "        dataTable['output_type'] = 'display_data';\n",
       "        await google.colab.output.renderOutput(dataTable, element);\n",
       "        const docLink = document.createElement('div');\n",
       "        docLink.innerHTML = docLinkHtml;\n",
       "        element.appendChild(docLink);\n",
       "      }\n",
       "    </script>\n",
       "  </div>\n",
       "\n",
       "\n",
       "<div id=\"df-6b6dbcdb-cd6e-420a-913f-52c2ce92dc1a\">\n",
       "  <button class=\"colab-df-quickchart\" onclick=\"quickchart('df-6b6dbcdb-cd6e-420a-913f-52c2ce92dc1a')\"\n",
       "            title=\"Suggest charts\"\n",
       "            style=\"display:none;\">\n",
       "\n",
       "<svg xmlns=\"http://www.w3.org/2000/svg\" height=\"24px\"viewBox=\"0 0 24 24\"\n",
       "     width=\"24px\">\n",
       "    <g>\n",
       "        <path d=\"M19 3H5c-1.1 0-2 .9-2 2v14c0 1.1.9 2 2 2h14c1.1 0 2-.9 2-2V5c0-1.1-.9-2-2-2zM9 17H7v-7h2v7zm4 0h-2V7h2v10zm4 0h-2v-4h2v4z\"/>\n",
       "    </g>\n",
       "</svg>\n",
       "  </button>\n",
       "\n",
       "<style>\n",
       "  .colab-df-quickchart {\n",
       "      --bg-color: #E8F0FE;\n",
       "      --fill-color: #1967D2;\n",
       "      --hover-bg-color: #E2EBFA;\n",
       "      --hover-fill-color: #174EA6;\n",
       "      --disabled-fill-color: #AAA;\n",
       "      --disabled-bg-color: #DDD;\n",
       "  }\n",
       "\n",
       "  [theme=dark] .colab-df-quickchart {\n",
       "      --bg-color: #3B4455;\n",
       "      --fill-color: #D2E3FC;\n",
       "      --hover-bg-color: #434B5C;\n",
       "      --hover-fill-color: #FFFFFF;\n",
       "      --disabled-bg-color: #3B4455;\n",
       "      --disabled-fill-color: #666;\n",
       "  }\n",
       "\n",
       "  .colab-df-quickchart {\n",
       "    background-color: var(--bg-color);\n",
       "    border: none;\n",
       "    border-radius: 50%;\n",
       "    cursor: pointer;\n",
       "    display: none;\n",
       "    fill: var(--fill-color);\n",
       "    height: 32px;\n",
       "    padding: 0;\n",
       "    width: 32px;\n",
       "  }\n",
       "\n",
       "  .colab-df-quickchart:hover {\n",
       "    background-color: var(--hover-bg-color);\n",
       "    box-shadow: 0 1px 2px rgba(60, 64, 67, 0.3), 0 1px 3px 1px rgba(60, 64, 67, 0.15);\n",
       "    fill: var(--button-hover-fill-color);\n",
       "  }\n",
       "\n",
       "  .colab-df-quickchart-complete:disabled,\n",
       "  .colab-df-quickchart-complete:disabled:hover {\n",
       "    background-color: var(--disabled-bg-color);\n",
       "    fill: var(--disabled-fill-color);\n",
       "    box-shadow: none;\n",
       "  }\n",
       "\n",
       "  .colab-df-spinner {\n",
       "    border: 2px solid var(--fill-color);\n",
       "    border-color: transparent;\n",
       "    border-bottom-color: var(--fill-color);\n",
       "    animation:\n",
       "      spin 1s steps(1) infinite;\n",
       "  }\n",
       "\n",
       "  @keyframes spin {\n",
       "    0% {\n",
       "      border-color: transparent;\n",
       "      border-bottom-color: var(--fill-color);\n",
       "      border-left-color: var(--fill-color);\n",
       "    }\n",
       "    20% {\n",
       "      border-color: transparent;\n",
       "      border-left-color: var(--fill-color);\n",
       "      border-top-color: var(--fill-color);\n",
       "    }\n",
       "    30% {\n",
       "      border-color: transparent;\n",
       "      border-left-color: var(--fill-color);\n",
       "      border-top-color: var(--fill-color);\n",
       "      border-right-color: var(--fill-color);\n",
       "    }\n",
       "    40% {\n",
       "      border-color: transparent;\n",
       "      border-right-color: var(--fill-color);\n",
       "      border-top-color: var(--fill-color);\n",
       "    }\n",
       "    60% {\n",
       "      border-color: transparent;\n",
       "      border-right-color: var(--fill-color);\n",
       "    }\n",
       "    80% {\n",
       "      border-color: transparent;\n",
       "      border-right-color: var(--fill-color);\n",
       "      border-bottom-color: var(--fill-color);\n",
       "    }\n",
       "    90% {\n",
       "      border-color: transparent;\n",
       "      border-bottom-color: var(--fill-color);\n",
       "    }\n",
       "  }\n",
       "</style>\n",
       "\n",
       "  <script>\n",
       "    async function quickchart(key) {\n",
       "      const quickchartButtonEl =\n",
       "        document.querySelector('#' + key + ' button');\n",
       "      quickchartButtonEl.disabled = true;  // To prevent multiple clicks.\n",
       "      quickchartButtonEl.classList.add('colab-df-spinner');\n",
       "      try {\n",
       "        const charts = await google.colab.kernel.invokeFunction(\n",
       "            'suggestCharts', [key], {});\n",
       "      } catch (error) {\n",
       "        console.error('Error during call to suggestCharts:', error);\n",
       "      }\n",
       "      quickchartButtonEl.classList.remove('colab-df-spinner');\n",
       "      quickchartButtonEl.classList.add('colab-df-quickchart-complete');\n",
       "    }\n",
       "    (() => {\n",
       "      let quickchartButtonEl =\n",
       "        document.querySelector('#df-6b6dbcdb-cd6e-420a-913f-52c2ce92dc1a button');\n",
       "      quickchartButtonEl.style.display =\n",
       "        google.colab.kernel.accessAllowed ? 'block' : 'none';\n",
       "    })();\n",
       "  </script>\n",
       "</div>\n",
       "\n",
       "    </div>\n",
       "  </div>\n"
      ],
      "text/plain": [
       "                          pregnancies   glucose  bloodpressure  skinthickness  \\\n",
       "pregnancies                  1.000000  0.129459       0.141282      -0.081672   \n",
       "glucose                      0.129459  1.000000       0.152590       0.057328   \n",
       "bloodpressure                0.141282  0.152590       1.000000       0.207371   \n",
       "skinthickness               -0.081672  0.057328       0.207371       1.000000   \n",
       "insulin                     -0.073535  0.331357       0.088933       0.436783   \n",
       "bmi                          0.017683  0.221071       0.281805       0.392573   \n",
       "diabetespedigreefunction    -0.033523  0.137337       0.041265       0.183928   \n",
       "age                          0.544341  0.263514       0.239528      -0.113970   \n",
       "outcome                      0.221898  0.466581       0.065068       0.074752   \n",
       "\n",
       "                           insulin       bmi  diabetespedigreefunction  \\\n",
       "pregnancies              -0.073535  0.017683                 -0.033523   \n",
       "glucose                   0.331357  0.221071                  0.137337   \n",
       "bloodpressure             0.088933  0.281805                  0.041265   \n",
       "skinthickness             0.436783  0.392573                  0.183928   \n",
       "insulin                   1.000000  0.197859                  0.185071   \n",
       "bmi                       0.197859  1.000000                  0.140647   \n",
       "diabetespedigreefunction  0.185071  0.140647                  1.000000   \n",
       "age                      -0.042163  0.036242                  0.033561   \n",
       "outcome                   0.130548  0.292695                  0.173844   \n",
       "\n",
       "                               age   outcome  \n",
       "pregnancies               0.544341  0.221898  \n",
       "glucose                   0.263514  0.466581  \n",
       "bloodpressure             0.239528  0.065068  \n",
       "skinthickness            -0.113970  0.074752  \n",
       "insulin                  -0.042163  0.130548  \n",
       "bmi                       0.036242  0.292695  \n",
       "diabetespedigreefunction  0.033561  0.173844  \n",
       "age                       1.000000  0.238356  \n",
       "outcome                   0.238356  1.000000  "
      ]
     },
     "execution_count": 12,
     "metadata": {},
     "output_type": "execute_result"
    }
   ],
   "source": [
    "df.corr()"
   ]
  },
  {
   "cell_type": "markdown",
   "metadata": {
    "id": "AJtkdhN2t0H4"
   },
   "source": [
    "or in a heatmap format:"
   ]
  },
  {
   "cell_type": "code",
   "execution_count": 13,
   "metadata": {
    "colab": {
     "base_uri": "https://localhost:8080/",
     "height": 616
    },
    "executionInfo": {
     "elapsed": 496,
     "status": "ok",
     "timestamp": 1732529076319,
     "user": {
      "displayName": "Nicolas Freillat",
      "userId": "03286038333048446500"
     },
     "user_tz": 0
    },
    "id": "oR0hXPPzx5dL",
    "outputId": "9950c878-ad91-46cf-962f-49906063cb1c"
   },
   "outputs": [
    {
     "data": {
      "text/plain": [
       "<Axes: >"
      ]
     },
     "execution_count": 13,
     "metadata": {},
     "output_type": "execute_result"
    },
    {
     "data": {
      "image/png": "[encoded data removed]",
      "text/plain": [
       "<Figure size 640x480 with 2 Axes>"
      ]
     },
     "metadata": {},
     "output_type": "display_data"
    }
   ],
   "source": [
    "sns.heatmap(df.corr())"
   ]
  },
  {
   "cell_type": "markdown",
   "metadata": {
    "id": "UvAP_X-LyBC1"
   },
   "source": [
    "There doesn't seem to be super high correlated features to diabetes (outcome in the dataset) - as could be expected glucose is the highest correlated feature."
   ]
  },
  {
   "cell_type": "markdown",
   "metadata": {
    "id": "UGeoo2sRyQaq"
   },
   "source": [
    "Let's move to modelling. We will start by importing the libraries we will use."
   ]
  },
  {
   "cell_type": "code",
   "execution_count": 14,
   "metadata": {
    "executionInfo": {
     "elapsed": 1893,
     "status": "ok",
     "timestamp": 1732529401533,
     "user": {
      "displayName": "Nicolas Freillat",
      "userId": "03286038333048446500"
     },
     "user_tz": 0
    },
    "id": "0sy-l--eyYv1"
   },
   "outputs": [],
   "source": [
    "import numpy as np\n",
    "from sklearn.model_selection import train_test_split\n",
    "from sklearn.linear_model import LogisticRegression\n",
    "from sklearn.tree import DecisionTreeClassifier, export_text\n",
    "from sklearn.feature_extraction import DictVectorizer\n",
    "from sklearn.ensemble import RandomForestClassifier\n",
    "from sklearn.metrics import mean_squared_error, mutual_info_score, accuracy_score, roc_auc_score, classification_report\n",
    "import xgboost as xgb"
   ]
  },
  {
   "cell_type": "markdown",
   "metadata": {
    "id": "fMiAqsxVyiE5"
   },
   "source": [
    "Let's prep the dataset and split it into training / validation and testing sets (80% / 20% / 20% split)."
   ]
  },
  {
   "cell_type": "code",
   "execution_count": 15,
   "metadata": {
    "executionInfo": {
     "elapsed": 226,
     "status": "ok",
     "timestamp": 1732529404084,
     "user": {
      "displayName": "Nicolas Freillat",
      "userId": "03286038333048446500"
     },
     "user_tz": 0
    },
    "id": "OJ7Pd7_uyx6s"
   },
   "outputs": [],
   "source": [
    "target = \"outcome\"\n",
    "\n",
    "df_full_train, df_test = train_test_split(df, test_size=0.2, random_state=1)\n",
    "df_train, df_val = train_test_split(df_full_train, test_size=0.25, random_state=1)\n",
    "df_train = df_train.reset_index(drop=True)\n",
    "df_val = df_val.reset_index(drop=True)\n",
    "df_test = df_test.reset_index(drop=True)\n",
    "df_train = df_train.reset_index(drop=True)\n",
    "\n",
    "y_train = df_train[target]\n",
    "y_full_train = df_full_train[target]\n",
    "y_val = df_val[target]\n",
    "y_test = df_test[target]\n",
    "del df_train[target]\n",
    "del df_full_train[target]\n",
    "del df_val[target]\n",
    "del df_test[target]\n"
   ]
  },
  {
   "cell_type": "markdown",
   "metadata": {
    "id": "1_kLVF2zzPJj"
   },
   "source": [
    "Let's start with a linear regression."
   ]
  },
  {
   "cell_type": "code",
   "execution_count": 23,
   "metadata": {
    "colab": {
     "base_uri": "https://localhost:8080/"
    },
    "executionInfo": {
     "elapsed": 216,
     "status": "ok",
     "timestamp": 1732530024866,
     "user": {
      "displayName": "Nicolas Freillat",
      "userId": "03286038333048446500"
     },
     "user_tz": 0
    },
    "id": "7Y08IE_yzSOq",
    "outputId": "bc68929a-38a9-4f82-f043-ddca4402a641"
   },
   "outputs": [
    {
     "name": "stdout",
     "output_type": "stream",
     "text": [
      "              precision    recall  f1-score   support\n",
      "\n",
      "           0       0.81      0.83      0.82       101\n",
      "           1       0.66      0.62      0.64        53\n",
      "\n",
      "    accuracy                           0.76       154\n",
      "   macro avg       0.73      0.73      0.73       154\n",
      "weighted avg       0.76      0.76      0.76       154\n",
      "\n"
     ]
    }
   ],
   "source": [
    "model = LogisticRegression(solver=\"liblinear\", C=1.0, max_iter=100, random_state=50)\n",
    "model.fit(df_train, y_train)\n",
    "y_pred = model.predict(df_val)\n",
    "print(classification_report(y_val, y_pred))"
   ]
  },
  {
   "cell_type": "markdown",
   "metadata": {
    "id": "uLrDUOxmzWTY"
   },
   "source": [
    "Let's compare with a decision tree."
   ]
  },
  {
   "cell_type": "code",
   "execution_count": 21,
   "metadata": {
    "colab": {
     "base_uri": "https://localhost:8080/"
    },
    "executionInfo": {
     "elapsed": 198,
     "status": "ok",
     "timestamp": 1732529939641,
     "user": {
      "displayName": "Nicolas Freillat",
      "userId": "03286038333048446500"
     },
     "user_tz": 0
    },
    "id": "_ygSv2e-zbX6",
    "outputId": "2bf76371-1a76-4504-99d1-0c1f15b0a877"
   },
   "outputs": [
    {
     "name": "stdout",
     "output_type": "stream",
     "text": [
      "Decision Tree Classifier:\n",
      "AUC Score:  0.692\n",
      "              precision    recall  f1-score   support\n",
      "\n",
      "           0       0.80      0.72      0.76       101\n",
      "           1       0.56      0.66      0.60        53\n",
      "\n",
      "    accuracy                           0.70       154\n",
      "   macro avg       0.68      0.69      0.68       154\n",
      "weighted avg       0.72      0.70      0.71       154\n",
      "\n"
     ]
    }
   ],
   "source": [
    "dv = DictVectorizer(sparse=False)\n",
    "train_dicts = df_train.to_dict(orient='records')\n",
    "X_train = dv.fit_transform(train_dicts)\n",
    "val_dicts = df_val.to_dict(orient='records')\n",
    "X_val = dv.transform(val_dicts)\n",
    "\n",
    "dt = DecisionTreeClassifier(max_depth=15)\n",
    "dt.fit(X_train, y_train)\n",
    "y_pred = dt.predict(X_val)\n",
    "print(\"Decision Tree Classifier:\")\n",
    "print(\"AUC Score: \", round(roc_auc_score(y_val, y_pred),3))\n",
    "print(classification_report(y_val, y_pred))"
   ]
  },
  {
   "cell_type": "markdown",
   "metadata": {
    "id": "nbqIvCCA1BK-"
   },
   "source": [
    "Let's now compare with a random forest."
   ]
  },
  {
   "cell_type": "code",
   "execution_count": 22,
   "metadata": {
    "colab": {
     "base_uri": "https://localhost:8080/"
    },
    "executionInfo": {
     "elapsed": 722,
     "status": "ok",
     "timestamp": 1732530000381,
     "user": {
      "displayName": "Nicolas Freillat",
      "userId": "03286038333048446500"
     },
     "user_tz": 0
    },
    "id": "tk2XTDKH1bs1",
    "outputId": "aae95bf1-10a9-4796-faa3-ab96008cd606"
   },
   "outputs": [
    {
     "name": "stdout",
     "output_type": "stream",
     "text": [
      "Random Forest Classifier:\n",
      "0.72128\n",
      "              precision    recall  f1-score   support\n",
      "\n",
      "           0       0.81      0.78      0.80       101\n",
      "           1       0.61      0.66      0.64        53\n",
      "\n",
      "    accuracy                           0.74       154\n",
      "   macro avg       0.71      0.72      0.72       154\n",
      "weighted avg       0.75      0.74      0.74       154\n",
      "\n"
     ]
    }
   ],
   "source": [
    "rf = RandomForestClassifier(n_estimators=100, random_state=1)\n",
    "rf.fit(X_train, y_train)\n",
    "features = dv.get_feature_names_out().tolist()\n",
    "y_pred = rf.predict(X_val)\n",
    "print(\"Random Forest Classifier:\")\n",
    "print(round(roc_auc_score(y_val, y_pred),5))\n",
    "print(classification_report(y_val, y_pred))"
   ]
  },
  {
   "cell_type": "markdown",
   "metadata": {
    "id": "J-rLQPd81m5O"
   },
   "source": [
    "Let's check feature importance."
   ]
  },
  {
   "cell_type": "code",
   "execution_count": 25,
   "metadata": {
    "colab": {
     "base_uri": "https://localhost:8080/",
     "height": 335
    },
    "executionInfo": {
     "elapsed": 198,
     "status": "ok",
     "timestamp": 1732530073732,
     "user": {
      "displayName": "Nicolas Freillat",
      "userId": "03286038333048446500"
     },
     "user_tz": 0
    },
    "id": "1S2Tsulm1qEZ",
    "outputId": "ecf5b018-17aa-4226-8ba4-de15d13ceb4a"
   },
   "outputs": [
    {
     "data": {
      "text/html": [
       "<div>\n",
       "<style scoped>\n",
       "    .dataframe tbody tr th:only-of-type {\n",
       "        vertical-align: middle;\n",
       "    }\n",
       "\n",
       "    .dataframe tbody tr th {\n",
       "        vertical-align: top;\n",
       "    }\n",
       "\n",
       "    .dataframe thead th {\n",
       "        text-align: right;\n",
       "    }\n",
       "</style>\n",
       "<table border=\"1\" class=\"dataframe\">\n",
       "  <thead>\n",
       "    <tr style=\"text-align: right;\">\n",
       "      <th></th>\n",
       "      <th>0</th>\n",
       "    </tr>\n",
       "  </thead>\n",
       "  <tbody>\n",
       "    <tr>\n",
       "      <th>glucose</th>\n",
       "      <td>0.264730</td>\n",
       "    </tr>\n",
       "    <tr>\n",
       "      <th>bmi</th>\n",
       "      <td>0.169142</td>\n",
       "    </tr>\n",
       "    <tr>\n",
       "      <th>age</th>\n",
       "      <td>0.129315</td>\n",
       "    </tr>\n",
       "    <tr>\n",
       "      <th>diabetespedigreefunction</th>\n",
       "      <td>0.124721</td>\n",
       "    </tr>\n",
       "    <tr>\n",
       "      <th>bloodpressure</th>\n",
       "      <td>0.091352</td>\n",
       "    </tr>\n",
       "    <tr>\n",
       "      <th>pregnancies</th>\n",
       "      <td>0.077748</td>\n",
       "    </tr>\n",
       "    <tr>\n",
       "      <th>insulin</th>\n",
       "      <td>0.076288</td>\n",
       "    </tr>\n",
       "    <tr>\n",
       "      <th>skinthickness</th>\n",
       "      <td>0.066703</td>\n",
       "    </tr>\n",
       "  </tbody>\n",
       "</table>\n",
       "</div><br><label><b>dtype:</b> float64</label>"
      ],
      "text/plain": [
       "glucose                     0.264730\n",
       "bmi                         0.169142\n",
       "age                         0.129315\n",
       "diabetespedigreefunction    0.124721\n",
       "bloodpressure               0.091352\n",
       "pregnancies                 0.077748\n",
       "insulin                     0.076288\n",
       "skinthickness               0.066703\n",
       "dtype: float64"
      ]
     },
     "execution_count": 25,
     "metadata": {},
     "output_type": "execute_result"
    }
   ],
   "source": [
    "f_importance = pd.Series(rf.feature_importances_, index = features).sort_values(ascending=False)\n",
    "f_importance"
   ]
  },
  {
   "cell_type": "markdown",
   "metadata": {
    "id": "BxYvbtd010PK"
   },
   "source": [
    "Let's try to optimize the random forest parameters to improve its metrics. Let's first go through different estimator values for the random forest model."
   ]
  },
  {
   "cell_type": "code",
   "execution_count": 27,
   "metadata": {
    "colab": {
     "base_uri": "https://localhost:8080/"
    },
    "executionInfo": {
     "elapsed": 4383,
     "status": "ok",
     "timestamp": 1732530303160,
     "user": {
      "displayName": "Nicolas Freillat",
      "userId": "03286038333048446500"
     },
     "user_tz": 0
    },
    "id": "ECsrO4a817Lc",
    "outputId": "bf8ee816-876e-4ff6-ab78-66d7b715b5e0"
   },
   "outputs": [
    {
     "name": "stdout",
     "output_type": "stream",
     "text": [
      "10 0.63777\n",
      "20 0.65076\n",
      "30 0.66066\n",
      "40 0.65972\n",
      "50 0.68849\n",
      "60 0.68849\n",
      "70 0.68849\n",
      "80 0.68401\n",
      "90 0.67906\n",
      "100 0.72128\n",
      "110 0.71184\n",
      "120 0.70241\n",
      "130 0.71184\n",
      "140 0.71633\n",
      "150 0.70241\n",
      "160 0.69746\n",
      "170 0.70241\n",
      "180 0.70241\n",
      "190 0.69298\n",
      "200 0.69298\n"
     ]
    }
   ],
   "source": [
    "for n in range(10,201,10):\n",
    "    rf = RandomForestClassifier(n_estimators=n, random_state=1)\n",
    "    rf.fit(X_train, y_train)\n",
    "    y_pred = rf.predict(X_val)\n",
    "    print(n, round(roc_auc_score(y_val, y_pred),5))"
   ]
  },
  {
   "cell_type": "markdown",
   "metadata": {
    "id": "jN2DSNvT2QF7"
   },
   "source": [
    "Let's check the average score for different depths."
   ]
  },
  {
   "cell_type": "code",
   "execution_count": null,
   "metadata": {
    "id": "CB2ukkSm2TNp"
   },
   "outputs": [],
   "source": [
    "for m in [10, 15, 20]:\n",
    "    mean_auc = 0\n",
    "    for n in range(10,201,10):\n",
    "        rf = RandomForestClassifier(n_estimators=n, max_depth=m, random_state=1)\n",
    "        rf.fit(X_train, y_train)\n",
    "        y_pred = rf.predict(X_val)\n",
    "        mean_auc += roc_auc_score(y_val, y_pred)\n",
    "    mean_auc = mean_auc / 20\n",
    "    print(m, round(mean_auc,5))"
   ]
  },
  {
   "cell_type": "markdown",
   "metadata": {
    "id": "EQlOKbac2O3e"
   },
   "source": [
    "Let's do more iteration around the sweetspot."
   ]
  },
  {
   "cell_type": "code",
   "execution_count": 33,
   "metadata": {
    "colab": {
     "base_uri": "https://localhost:8080/"
    },
    "executionInfo": {
     "elapsed": 29850,
     "status": "ok",
     "timestamp": 1732530658600,
     "user": {
      "displayName": "Nicolas Freillat",
      "userId": "03286038333048446500"
     },
     "user_tz": 0
    },
    "id": "k1ee2OKj2OKZ",
    "outputId": "d805cc7a-5751-415a-df3a-003c5074ebc1"
   },
   "outputs": [
    {
     "name": "stdout",
     "output_type": "stream",
     "text": [
      "10 0.68741\n",
      "11 0.68798\n",
      "12 0.69081\n",
      "13 0.72194\n",
      "14 0.69469\n",
      "15 0.71058\n",
      "16 0.70069\n",
      "17 0.69992\n",
      "18 0.69694\n",
      "19 0.69694\n",
      "20 0.69951\n"
     ]
    }
   ],
   "source": [
    "for m in range(10,21):\n",
    "    mean_auc = 0\n",
    "    for n in range(50,151,10):\n",
    "        rf = RandomForestClassifier(n_estimators=n, max_depth=m, random_state=1)\n",
    "        rf.fit(X_train, y_train)\n",
    "        y_pred = rf.predict(X_val)\n",
    "        mean_auc += roc_auc_score(y_val, y_pred)\n",
    "    mean_auc = mean_auc / 11\n",
    "    print(m, round(mean_auc,5))"
   ]
  },
  {
   "cell_type": "markdown",
   "metadata": {
    "id": "-JAOJ6AE3FAO"
   },
   "source": [
    "Using the best depths so far (13), let's iterate again on estimators."
   ]
  },
  {
   "cell_type": "code",
   "execution_count": 34,
   "metadata": {
    "colab": {
     "base_uri": "https://localhost:8080/"
    },
    "executionInfo": {
     "elapsed": 4963,
     "status": "ok",
     "timestamp": 1732530676824,
     "user": {
      "displayName": "Nicolas Freillat",
      "userId": "03286038333048446500"
     },
     "user_tz": 0
    },
    "id": "PuXxVgL03LFA",
    "outputId": "ee213bef-b196-4b11-9f2d-3f2022c197fa"
   },
   "outputs": [
    {
     "name": "stdout",
     "output_type": "stream",
     "text": [
      "10 0.67103\n",
      "20 0.69344\n",
      "30 0.71726\n",
      "40 0.70288\n",
      "50 0.7451\n",
      "60 0.74463\n",
      "70 0.70241\n",
      "80 0.71726\n",
      "90 0.71231\n",
      "100 0.71231\n",
      "110 0.72174\n",
      "120 0.72174\n",
      "130 0.72128\n",
      "140 0.72128\n",
      "150 0.72128\n",
      "160 0.71633\n",
      "170 0.70241\n",
      "180 0.71679\n",
      "190 0.70241\n",
      "200 0.71679\n"
     ]
    }
   ],
   "source": [
    "for n in range(10,201,10):\n",
    "    rf = RandomForestClassifier(n_estimators=n, max_depth=13, random_state=1)\n",
    "    rf.fit(X_train, y_train)\n",
    "    y_pred = rf.predict(X_val)\n",
    "    print(n, round(roc_auc_score(y_val, y_pred),5))"
   ]
  },
  {
   "cell_type": "markdown",
   "metadata": {
    "id": "mqEOorCb4F-B"
   },
   "source": [
    "Let's now pick the best parameters we found so fart (3 depth and 60 estimators), train on the model on our full_train data and compare with the results with the test data."
   ]
  },
  {
   "cell_type": "code",
   "execution_count": null,
   "metadata": {
    "colab": {
     "base_uri": "https://localhost:8080/"
    },
    "executionInfo": {
     "elapsed": 215,
     "status": "ok",
     "timestamp": 1732530772538,
     "user": {
      "displayName": "Nicolas Freillat",
      "userId": "03286038333048446500"
     },
     "user_tz": 0
    },
    "id": "eEu2p1374UpJ",
    "outputId": "3860f68b-29af-44d1-81bd-4d19edbfd1f7"
   },
   "outputs": [
    {
     "name": "stdout",
     "output_type": "stream",
     "text": [
      "Random Forest Classifier on Test:\n",
      "0.7828282828282828\n",
      "              precision    recall  f1-score   support\n",
      "\n",
      "           0       0.85      0.84      0.84        99\n",
      "           1       0.71      0.73      0.72        55\n",
      "\n",
      "    accuracy                           0.80       154\n",
      "   macro avg       0.78      0.78      0.78       154\n",
      "weighted avg       0.80      0.80      0.80       154\n",
      "\n"
     ]
    }
   ],
   "source": [
    "rf = RandomForestClassifier(n_estimators=60, max_depth=13, random_state=1)\n",
    "full_train_dicts = df_full_train.to_dict(orient='records')\n",
    "X_full_train = dv.fit_transform(full_train_dicts)\n",
    "test_dicts = df_test.to_dict(orient='records')\n",
    "X_test = dv.transform(test_dicts)\n",
    "rf.fit(X_full_train, y_full_train)\n",
    "y_pred = rf.predict(X_test)\n",
    "print(\"Random Forest Classifier on Test:\")\n",
    "print(round(roc_auc_score(y_test, y_pred),5))\n",
    "print(classification_report(y_test, y_pred))"
   ]
  },
  {
   "cell_type": "markdown",
   "metadata": {
    "id": "0A9QVQhQ4bNx"
   },
   "source": [
    "These look decent and outperform logistic regression. Let's see how this compares to xgboost."
   ]
  },
  {
   "cell_type": "code",
   "execution_count": 38,
   "metadata": {
    "colab": {
     "base_uri": "https://localhost:8080/"
    },
    "executionInfo": {
     "elapsed": 1180,
     "status": "ok",
     "timestamp": 1732530866297,
     "user": {
      "displayName": "Nicolas Freillat",
      "userId": "03286038333048446500"
     },
     "user_tz": 0
    },
    "id": "cW2JMy364oeG",
    "outputId": "7b232662-8e98-460b-fdc4-9718236216c4"
   },
   "outputs": [
    {
     "name": "stdout",
     "output_type": "stream",
     "text": [
      "[0]\ttrain-logloss:0.59919\tval-logloss:0.62005\n",
      "[1]\ttrain-logloss:0.55908\tval-logloss:0.60228\n",
      "[2]\ttrain-logloss:0.52366\tval-logloss:0.59276\n",
      "[3]\ttrain-logloss:0.49237\tval-logloss:0.57807\n",
      "[4]\ttrain-logloss:0.46522\tval-logloss:0.56661\n",
      "[5]\ttrain-logloss:0.44012\tval-logloss:0.55846\n",
      "[6]\ttrain-logloss:0.41852\tval-logloss:0.54818\n",
      "[7]\ttrain-logloss:0.39879\tval-logloss:0.54305\n",
      "[8]\ttrain-logloss:0.37964\tval-logloss:0.53588\n",
      "[9]\ttrain-logloss:0.36258\tval-logloss:0.53347\n",
      "[10]\ttrain-logloss:0.34654\tval-logloss:0.53407\n",
      "[11]\ttrain-logloss:0.33192\tval-logloss:0.53171\n",
      "[12]\ttrain-logloss:0.31808\tval-logloss:0.52741\n",
      "[13]\ttrain-logloss:0.30561\tval-logloss:0.52284\n",
      "[14]\ttrain-logloss:0.29453\tval-logloss:0.52199\n",
      "[15]\ttrain-logloss:0.28441\tval-logloss:0.52231\n",
      "[16]\ttrain-logloss:0.27204\tval-logloss:0.51586\n",
      "[17]\ttrain-logloss:0.26259\tval-logloss:0.51614\n",
      "[18]\ttrain-logloss:0.25227\tval-logloss:0.51552\n",
      "[19]\ttrain-logloss:0.24281\tval-logloss:0.51508\n",
      "[20]\ttrain-logloss:0.23526\tval-logloss:0.51369\n",
      "[21]\ttrain-logloss:0.22680\tval-logloss:0.51727\n",
      "[22]\ttrain-logloss:0.21836\tval-logloss:0.51989\n",
      "[23]\ttrain-logloss:0.21173\tval-logloss:0.52396\n",
      "[24]\ttrain-logloss:0.20473\tval-logloss:0.52801\n",
      "[25]\ttrain-logloss:0.19819\tval-logloss:0.53102\n",
      "[26]\ttrain-logloss:0.19170\tval-logloss:0.53604\n",
      "[27]\ttrain-logloss:0.18655\tval-logloss:0.53957\n",
      "[28]\ttrain-logloss:0.18128\tval-logloss:0.54360\n",
      "[29]\ttrain-logloss:0.17697\tval-logloss:0.54511\n",
      "[30]\ttrain-logloss:0.17268\tval-logloss:0.54764\n",
      "[31]\ttrain-logloss:0.16719\tval-logloss:0.55087\n",
      "[32]\ttrain-logloss:0.16337\tval-logloss:0.55470\n",
      "[33]\ttrain-logloss:0.15963\tval-logloss:0.55518\n",
      "[34]\ttrain-logloss:0.15565\tval-logloss:0.55869\n",
      "[35]\ttrain-logloss:0.15211\tval-logloss:0.55963\n",
      "[36]\ttrain-logloss:0.14920\tval-logloss:0.56102\n",
      "[37]\ttrain-logloss:0.14568\tval-logloss:0.56259\n",
      "[38]\ttrain-logloss:0.14239\tval-logloss:0.56763\n",
      "[39]\ttrain-logloss:0.13868\tval-logloss:0.57171\n",
      "[40]\ttrain-logloss:0.13538\tval-logloss:0.57596\n",
      "[41]\ttrain-logloss:0.13226\tval-logloss:0.57993\n",
      "[42]\ttrain-logloss:0.12872\tval-logloss:0.58202\n",
      "[43]\ttrain-logloss:0.12630\tval-logloss:0.58785\n",
      "[44]\ttrain-logloss:0.12365\tval-logloss:0.58679\n",
      "[45]\ttrain-logloss:0.12104\tval-logloss:0.58935\n",
      "[46]\ttrain-logloss:0.11802\tval-logloss:0.58944\n",
      "[47]\ttrain-logloss:0.11558\tval-logloss:0.59208\n",
      "[48]\ttrain-logloss:0.11312\tval-logloss:0.59005\n",
      "[49]\ttrain-logloss:0.11098\tval-logloss:0.59067\n",
      "[50]\ttrain-logloss:0.10865\tval-logloss:0.59107\n",
      "[51]\ttrain-logloss:0.10681\tval-logloss:0.59519\n",
      "[52]\ttrain-logloss:0.10527\tval-logloss:0.59406\n",
      "[53]\ttrain-logloss:0.10320\tval-logloss:0.59453\n",
      "[54]\ttrain-logloss:0.10128\tval-logloss:0.59478\n",
      "[55]\ttrain-logloss:0.09996\tval-logloss:0.59813\n",
      "[56]\ttrain-logloss:0.09817\tval-logloss:0.59947\n",
      "[57]\ttrain-logloss:0.09661\tval-logloss:0.60197\n",
      "[58]\ttrain-logloss:0.09553\tval-logloss:0.60364\n",
      "[59]\ttrain-logloss:0.09390\tval-logloss:0.60512\n",
      "[60]\ttrain-logloss:0.09268\tval-logloss:0.60718\n",
      "[61]\ttrain-logloss:0.09111\tval-logloss:0.60799\n",
      "[62]\ttrain-logloss:0.08958\tval-logloss:0.60906\n",
      "[63]\ttrain-logloss:0.08823\tval-logloss:0.61146\n",
      "[64]\ttrain-logloss:0.08702\tval-logloss:0.61259\n",
      "[65]\ttrain-logloss:0.08577\tval-logloss:0.61333\n",
      "[66]\ttrain-logloss:0.08465\tval-logloss:0.61432\n",
      "[67]\ttrain-logloss:0.08372\tval-logloss:0.61452\n",
      "[68]\ttrain-logloss:0.08265\tval-logloss:0.61633\n",
      "[69]\ttrain-logloss:0.08156\tval-logloss:0.61988\n",
      "[70]\ttrain-logloss:0.08045\tval-logloss:0.62066\n",
      "[71]\ttrain-logloss:0.07940\tval-logloss:0.62252\n",
      "[72]\ttrain-logloss:0.07832\tval-logloss:0.62349\n",
      "[73]\ttrain-logloss:0.07738\tval-logloss:0.62465\n",
      "[74]\ttrain-logloss:0.07640\tval-logloss:0.62649\n",
      "[75]\ttrain-logloss:0.07543\tval-logloss:0.62679\n",
      "[76]\ttrain-logloss:0.07443\tval-logloss:0.62917\n",
      "[77]\ttrain-logloss:0.07350\tval-logloss:0.63346\n",
      "[78]\ttrain-logloss:0.07262\tval-logloss:0.63515\n",
      "[79]\ttrain-logloss:0.07185\tval-logloss:0.63716\n",
      "[80]\ttrain-logloss:0.07100\tval-logloss:0.64043\n",
      "[81]\ttrain-logloss:0.07015\tval-logloss:0.64165\n",
      "[82]\ttrain-logloss:0.06936\tval-logloss:0.64476\n",
      "[83]\ttrain-logloss:0.06862\tval-logloss:0.64805\n",
      "[84]\ttrain-logloss:0.06794\tval-logloss:0.65004\n",
      "[85]\ttrain-logloss:0.06723\tval-logloss:0.65049\n",
      "[86]\ttrain-logloss:0.06650\tval-logloss:0.65243\n",
      "[87]\ttrain-logloss:0.06597\tval-logloss:0.65446\n",
      "[88]\ttrain-logloss:0.06524\tval-logloss:0.65845\n",
      "[89]\ttrain-logloss:0.06460\tval-logloss:0.65894\n",
      "[90]\ttrain-logloss:0.06396\tval-logloss:0.66000\n",
      "[91]\ttrain-logloss:0.06340\tval-logloss:0.66060\n",
      "[92]\ttrain-logloss:0.06278\tval-logloss:0.66222\n",
      "[93]\ttrain-logloss:0.06208\tval-logloss:0.66384\n",
      "[94]\ttrain-logloss:0.06151\tval-logloss:0.66440\n",
      "[95]\ttrain-logloss:0.06102\tval-logloss:0.66650\n",
      "[96]\ttrain-logloss:0.06056\tval-logloss:0.66874\n",
      "[97]\ttrain-logloss:0.05992\tval-logloss:0.66901\n",
      "[98]\ttrain-logloss:0.05936\tval-logloss:0.66750\n",
      "[99]\ttrain-logloss:0.05881\tval-logloss:0.66945\n",
      "XGBoost:\n",
      "0.69251\n",
      "              precision    recall  f1-score   support\n",
      "\n",
      "           0       0.79      0.76      0.78       101\n",
      "           1       0.58      0.62      0.60        53\n",
      "\n",
      "    accuracy                           0.71       154\n",
      "   macro avg       0.69      0.69      0.69       154\n",
      "weighted avg       0.72      0.71      0.72       154\n",
      "\n"
     ]
    }
   ],
   "source": [
    "dtrain = xgb.DMatrix(X_train, label=y_train, feature_names=features)\n",
    "dval = xgb.DMatrix(X_val, label=y_val, feature_names=features)\n",
    "\n",
    "xgb_params = {\n",
    "    'eta': 0.1,\n",
    "    'max_depth': 10,\n",
    "    'min_child_weight': 1,\n",
    "    'objective': 'binary:logistic',\n",
    "    'nthread': 8,\n",
    "    'seed': 1,\n",
    "    'verbosity': 1\n",
    "}\n",
    "\n",
    "watchlist = [(dtrain, 'train'), (dval,'val')]\n",
    "\n",
    "xgb.set_config(verbosity=0)\n",
    "model = xgb.train(xgb_params, dtrain, evals=watchlist, num_boost_round=100)\n",
    "y_pred = model.predict(dval)\n",
    "estimate = y_pred >= 0.5\n",
    "print(\"XGBoost:\")\n",
    "print(round(roc_auc_score(y_val, estimate),5))\n",
    "print(classification_report(y_val, estimate))"
   ]
  },
  {
   "cell_type": "markdown",
   "metadata": {
    "id": "QxbakdS74zOv"
   },
   "source": [
    "Our trained random forest gives better performance both on validation and test so we will use this in our next steps, when we deploy the model."
   ]
  }
 ],
 "metadata": {
  "colab": {
   "authorship_tag": "ABX9TyMlfHWNNtYAQt91YsdsZ3m8",
   "provenance": []
  },
  "kernelspec": {
   "display_name": "Python 3",
   "name": "python3"
  },
  "language_info": {
   "name": "python"
  }
 },
 "nbformat": 4,
 "nbformat_minor": 0
}
